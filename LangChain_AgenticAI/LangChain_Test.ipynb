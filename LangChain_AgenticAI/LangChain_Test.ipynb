{
  "cells": [
    {
      "cell_type": "code",
      "execution_count": 2,
      "metadata": {
        "colab": {
          "base_uri": "https://localhost:8080/"
        },
        "id": "5PggDHM-Zdqp",
        "outputId": "f1c59a13-6718-45de-a09f-8bbad4946446"
      },
      "outputs": [
        {
          "name": "stdout",
          "output_type": "stream",
          "text": [
            "Collecting langchain-google-genai\n",
            "  Downloading langchain_google_genai-2.0.8-py3-none-any.whl.metadata (3.6 kB)\n",
            "Collecting filetype<2.0.0,>=1.2.0 (from langchain-google-genai)\n",
            "  Downloading filetype-1.2.0-py2.py3-none-any.whl.metadata (6.5 kB)\n",
            "Requirement already satisfied: google-generativeai<0.9.0,>=0.8.0 in /usr/local/lib/python3.10/dist-packages (from langchain-google-genai) (0.8.3)\n",
            "Collecting langchain-core<0.4.0,>=0.3.27 (from langchain-google-genai)\n",
            "  Downloading langchain_core-0.3.29-py3-none-any.whl.metadata (6.3 kB)\n",
            "Requirement already satisfied: pydantic<3,>=2 in /usr/local/lib/python3.10/dist-packages (from langchain-google-genai) (2.10.3)\n",
            "Requirement already satisfied: google-ai-generativelanguage==0.6.10 in /usr/local/lib/python3.10/dist-packages (from google-generativeai<0.9.0,>=0.8.0->langchain-google-genai) (0.6.10)\n",
            "Requirement already satisfied: google-api-core in /usr/local/lib/python3.10/dist-packages (from google-generativeai<0.9.0,>=0.8.0->langchain-google-genai) (2.19.2)\n",
            "Requirement already satisfied: google-api-python-client in /usr/local/lib/python3.10/dist-packages (from google-generativeai<0.9.0,>=0.8.0->langchain-google-genai) (2.155.0)\n",
            "Requirement already satisfied: google-auth>=2.15.0 in /usr/local/lib/python3.10/dist-packages (from google-generativeai<0.9.0,>=0.8.0->langchain-google-genai) (2.27.0)\n",
            "Requirement already satisfied: protobuf in /usr/local/lib/python3.10/dist-packages (from google-generativeai<0.9.0,>=0.8.0->langchain-google-genai) (4.25.5)\n",
            "Requirement already satisfied: tqdm in /usr/local/lib/python3.10/dist-packages (from google-generativeai<0.9.0,>=0.8.0->langchain-google-genai) (4.67.1)\n",
            "Requirement already satisfied: typing-extensions in /usr/local/lib/python3.10/dist-packages (from google-generativeai<0.9.0,>=0.8.0->langchain-google-genai) (4.12.2)\n",
            "Requirement already satisfied: proto-plus<2.0.0dev,>=1.22.3 in /usr/local/lib/python3.10/dist-packages (from google-ai-generativelanguage==0.6.10->google-generativeai<0.9.0,>=0.8.0->langchain-google-genai) (1.25.0)\n",
            "Requirement already satisfied: PyYAML>=5.3 in /usr/local/lib/python3.10/dist-packages (from langchain-core<0.4.0,>=0.3.27->langchain-google-genai) (6.0.2)\n",
            "Requirement already satisfied: jsonpatch<2.0,>=1.33 in /usr/local/lib/python3.10/dist-packages (from langchain-core<0.4.0,>=0.3.27->langchain-google-genai) (1.33)\n",
            "Requirement already satisfied: langsmith<0.3,>=0.1.125 in /usr/local/lib/python3.10/dist-packages (from langchain-core<0.4.0,>=0.3.27->langchain-google-genai) (0.2.3)\n",
            "Requirement already satisfied: packaging<25,>=23.2 in /usr/local/lib/python3.10/dist-packages (from langchain-core<0.4.0,>=0.3.27->langchain-google-genai) (24.2)\n",
            "Requirement already satisfied: tenacity!=8.4.0,<10.0.0,>=8.1.0 in /usr/local/lib/python3.10/dist-packages (from langchain-core<0.4.0,>=0.3.27->langchain-google-genai) (9.0.0)\n",
            "Requirement already satisfied: annotated-types>=0.6.0 in /usr/local/lib/python3.10/dist-packages (from pydantic<3,>=2->langchain-google-genai) (0.7.0)\n",
            "Requirement already satisfied: pydantic-core==2.27.1 in /usr/local/lib/python3.10/dist-packages (from pydantic<3,>=2->langchain-google-genai) (2.27.1)\n",
            "Requirement already satisfied: googleapis-common-protos<2.0.dev0,>=1.56.2 in /usr/local/lib/python3.10/dist-packages (from google-api-core->google-generativeai<0.9.0,>=0.8.0->langchain-google-genai) (1.66.0)\n",
            "Requirement already satisfied: requests<3.0.0.dev0,>=2.18.0 in /usr/local/lib/python3.10/dist-packages (from google-api-core->google-generativeai<0.9.0,>=0.8.0->langchain-google-genai) (2.32.3)\n",
            "Requirement already satisfied: cachetools<6.0,>=2.0.0 in /usr/local/lib/python3.10/dist-packages (from google-auth>=2.15.0->google-generativeai<0.9.0,>=0.8.0->langchain-google-genai) (5.5.0)\n",
            "Requirement already satisfied: pyasn1-modules>=0.2.1 in /usr/local/lib/python3.10/dist-packages (from google-auth>=2.15.0->google-generativeai<0.9.0,>=0.8.0->langchain-google-genai) (0.4.1)\n",
            "Requirement already satisfied: rsa<5,>=3.1.4 in /usr/local/lib/python3.10/dist-packages (from google-auth>=2.15.0->google-generativeai<0.9.0,>=0.8.0->langchain-google-genai) (4.9)\n",
            "Requirement already satisfied: jsonpointer>=1.9 in /usr/local/lib/python3.10/dist-packages (from jsonpatch<2.0,>=1.33->langchain-core<0.4.0,>=0.3.27->langchain-google-genai) (3.0.0)\n",
            "Requirement already satisfied: httpx<1,>=0.23.0 in /usr/local/lib/python3.10/dist-packages (from langsmith<0.3,>=0.1.125->langchain-core<0.4.0,>=0.3.27->langchain-google-genai) (0.28.1)\n",
            "Requirement already satisfied: orjson<4.0.0,>=3.9.14 in /usr/local/lib/python3.10/dist-packages (from langsmith<0.3,>=0.1.125->langchain-core<0.4.0,>=0.3.27->langchain-google-genai) (3.10.12)\n",
            "Requirement already satisfied: requests-toolbelt<2.0.0,>=1.0.0 in /usr/local/lib/python3.10/dist-packages (from langsmith<0.3,>=0.1.125->langchain-core<0.4.0,>=0.3.27->langchain-google-genai) (1.0.0)\n",
            "Requirement already satisfied: httplib2<1.dev0,>=0.19.0 in /usr/local/lib/python3.10/dist-packages (from google-api-python-client->google-generativeai<0.9.0,>=0.8.0->langchain-google-genai) (0.22.0)\n",
            "Requirement already satisfied: google-auth-httplib2<1.0.0,>=0.2.0 in /usr/local/lib/python3.10/dist-packages (from google-api-python-client->google-generativeai<0.9.0,>=0.8.0->langchain-google-genai) (0.2.0)\n",
            "Requirement already satisfied: uritemplate<5,>=3.0.1 in /usr/local/lib/python3.10/dist-packages (from google-api-python-client->google-generativeai<0.9.0,>=0.8.0->langchain-google-genai) (4.1.1)\n",
            "Requirement already satisfied: grpcio<2.0dev,>=1.33.2 in /usr/local/lib/python3.10/dist-packages (from google-api-core[grpc]!=2.0.*,!=2.1.*,!=2.10.*,!=2.2.*,!=2.3.*,!=2.4.*,!=2.5.*,!=2.6.*,!=2.7.*,!=2.8.*,!=2.9.*,<3.0.0dev,>=1.34.1->google-ai-generativelanguage==0.6.10->google-generativeai<0.9.0,>=0.8.0->langchain-google-genai) (1.68.1)\n",
            "Requirement already satisfied: grpcio-status<2.0.dev0,>=1.33.2 in /usr/local/lib/python3.10/dist-packages (from google-api-core[grpc]!=2.0.*,!=2.1.*,!=2.10.*,!=2.2.*,!=2.3.*,!=2.4.*,!=2.5.*,!=2.6.*,!=2.7.*,!=2.8.*,!=2.9.*,<3.0.0dev,>=1.34.1->google-ai-generativelanguage==0.6.10->google-generativeai<0.9.0,>=0.8.0->langchain-google-genai) (1.62.3)\n",
            "Requirement already satisfied: pyparsing!=3.0.0,!=3.0.1,!=3.0.2,!=3.0.3,<4,>=2.4.2 in /usr/local/lib/python3.10/dist-packages (from httplib2<1.dev0,>=0.19.0->google-api-python-client->google-generativeai<0.9.0,>=0.8.0->langchain-google-genai) (3.2.0)\n",
            "Requirement already satisfied: anyio in /usr/local/lib/python3.10/dist-packages (from httpx<1,>=0.23.0->langsmith<0.3,>=0.1.125->langchain-core<0.4.0,>=0.3.27->langchain-google-genai) (3.7.1)\n",
            "Requirement already satisfied: certifi in /usr/local/lib/python3.10/dist-packages (from httpx<1,>=0.23.0->langsmith<0.3,>=0.1.125->langchain-core<0.4.0,>=0.3.27->langchain-google-genai) (2024.12.14)\n",
            "Requirement already satisfied: httpcore==1.* in /usr/local/lib/python3.10/dist-packages (from httpx<1,>=0.23.0->langsmith<0.3,>=0.1.125->langchain-core<0.4.0,>=0.3.27->langchain-google-genai) (1.0.7)\n",
            "Requirement already satisfied: idna in /usr/local/lib/python3.10/dist-packages (from httpx<1,>=0.23.0->langsmith<0.3,>=0.1.125->langchain-core<0.4.0,>=0.3.27->langchain-google-genai) (3.10)\n",
            "Requirement already satisfied: h11<0.15,>=0.13 in /usr/local/lib/python3.10/dist-packages (from httpcore==1.*->httpx<1,>=0.23.0->langsmith<0.3,>=0.1.125->langchain-core<0.4.0,>=0.3.27->langchain-google-genai) (0.14.0)\n",
            "Requirement already satisfied: pyasn1<0.7.0,>=0.4.6 in /usr/local/lib/python3.10/dist-packages (from pyasn1-modules>=0.2.1->google-auth>=2.15.0->google-generativeai<0.9.0,>=0.8.0->langchain-google-genai) (0.6.1)\n",
            "Requirement already satisfied: charset-normalizer<4,>=2 in /usr/local/lib/python3.10/dist-packages (from requests<3.0.0.dev0,>=2.18.0->google-api-core->google-generativeai<0.9.0,>=0.8.0->langchain-google-genai) (3.4.0)\n",
            "Requirement already satisfied: urllib3<3,>=1.21.1 in /usr/local/lib/python3.10/dist-packages (from requests<3.0.0.dev0,>=2.18.0->google-api-core->google-generativeai<0.9.0,>=0.8.0->langchain-google-genai) (2.2.3)\n",
            "Requirement already satisfied: sniffio>=1.1 in /usr/local/lib/python3.10/dist-packages (from anyio->httpx<1,>=0.23.0->langsmith<0.3,>=0.1.125->langchain-core<0.4.0,>=0.3.27->langchain-google-genai) (1.3.1)\n",
            "Requirement already satisfied: exceptiongroup in /usr/local/lib/python3.10/dist-packages (from anyio->httpx<1,>=0.23.0->langsmith<0.3,>=0.1.125->langchain-core<0.4.0,>=0.3.27->langchain-google-genai) (1.2.2)\n",
            "Downloading langchain_google_genai-2.0.8-py3-none-any.whl (41 kB)\n",
            "\u001b[2K   \u001b[90m━━━━━━━━━━━━━━━━━━━━━━━━━━━━━━━━━━━━━━━━\u001b[0m \u001b[32m41.5/41.5 kB\u001b[0m \u001b[31m1.8 MB/s\u001b[0m eta \u001b[36m0:00:00\u001b[0m\n",
            "\u001b[?25hDownloading filetype-1.2.0-py2.py3-none-any.whl (19 kB)\n",
            "Downloading langchain_core-0.3.29-py3-none-any.whl (411 kB)\n",
            "\u001b[2K   \u001b[90m━━━━━━━━━━━━━━━━━━━━━━━━━━━━━━━━━━━━━━━━\u001b[0m \u001b[32m411.6/411.6 kB\u001b[0m \u001b[31m10.6 MB/s\u001b[0m eta \u001b[36m0:00:00\u001b[0m\n",
            "\u001b[?25hInstalling collected packages: filetype, langchain-core, langchain-google-genai\n",
            "  Attempting uninstall: langchain-core\n",
            "    Found existing installation: langchain-core 0.3.25\n",
            "    Uninstalling langchain-core-0.3.25:\n",
            "      Successfully uninstalled langchain-core-0.3.25\n",
            "Successfully installed filetype-1.2.0 langchain-core-0.3.29 langchain-google-genai-2.0.8\n"
          ]
        }
      ],
      "source": [
        "!pip install langchain-google-genai"
      ]
    },
    {
      "cell_type": "code",
      "execution_count": 4,
      "metadata": {
        "colab": {
          "base_uri": "https://localhost:8080/"
        },
        "id": "zFynD80mZs7V",
        "outputId": "dd016a27-c8fa-4018-f230-9b8f051f3717"
      },
      "outputs": [
        {
          "name": "stdout",
          "output_type": "stream",
          "text": [
            "Enter your Google AI API key: ··········\n"
          ]
        }
      ],
      "source": [
        "import getpass\n",
        "import os\n",
        "\n",
        "if \"GOOGLE_API_KEY\" not in os.environ:\n",
        "    os.environ[\"GOOGLE_API_KEY\"] = getpass.getpass(\"Enter your Google AI API key: \")"
      ]
    },
    {
      "cell_type": "code",
      "execution_count": 5,
      "metadata": {
        "colab": {
          "base_uri": "https://localhost:8080/"
        },
        "id": "lY-V00HFZ88Z",
        "outputId": "2f7d16fd-2a11-4125-b05d-646f8a6c35fb"
      },
      "outputs": [
        {
          "name": "stdout",
          "output_type": "stream",
          "text": [
            "Enter your LangSmith API key: ··········\n"
          ]
        }
      ],
      "source": [
        "os.environ[\"LANGSMITH_API_KEY\"] = getpass.getpass(\"Enter your LangSmith API key: \")\n",
        "os.environ[\"LANGSMITH_TRACING\"] = \"true\""
      ]
    },
    {
      "cell_type": "code",
      "execution_count": 6,
      "metadata": {
        "id": "tNIALtPBaVV0"
      },
      "outputs": [],
      "source": [
        "%pip install -qU langchain-google-genai"
      ]
    },
    {
      "cell_type": "code",
      "execution_count": 7,
      "metadata": {
        "id": "CO_PWikRabOj"
      },
      "outputs": [],
      "source": [
        "from langchain_google_genai import ChatGoogleGenerativeAI\n",
        "\n",
        "llm = ChatGoogleGenerativeAI(\n",
        "    model=\"gemini-1.5-pro\",\n",
        "    temperature=0,\n",
        "    max_tokens=None,\n",
        "    timeout=None,\n",
        "    max_retries=2,\n",
        "    # other params...\n",
        ")"
      ]
    },
    {
      "cell_type": "code",
      "execution_count": 8,
      "metadata": {
        "colab": {
          "base_uri": "https://localhost:8080/"
        },
        "id": "7le7-ivwakqm",
        "outputId": "acbf5f5d-eebb-4fec-ed34-2d1ba290a771"
      },
      "outputs": [
        {
          "data": {
            "text/plain": [
              "AIMessage(content=\"J'adore programmer.\", additional_kwargs={}, response_metadata={'prompt_feedback': {'block_reason': 0, 'safety_ratings': []}, 'finish_reason': 'STOP', 'safety_ratings': []}, id='run-8c1f8f5e-6f94-41fc-8fd5-c18f3beb85b3-0', usage_metadata={'input_tokens': 21, 'output_tokens': 6, 'total_tokens': 27, 'input_token_details': {'cache_read': 0}})"
            ]
          },
          "execution_count": 8,
          "metadata": {},
          "output_type": "execute_result"
        }
      ],
      "source": [
        "messages = [\n",
        "    (\n",
        "        \"system\",\n",
        "        \"You are a helpful assistant that translates English to French. Translate the user sentence.\",\n",
        "    ),\n",
        "    (\"human\", \"I love programming.\"),\n",
        "]\n",
        "ai_msg = llm.invoke(messages)\n",
        "ai_msg"
      ]
    },
    {
      "cell_type": "code",
      "execution_count": 9,
      "metadata": {
        "colab": {
          "base_uri": "https://localhost:8080/"
        },
        "id": "jdvlnVNpao5x",
        "outputId": "ad44c024-f137-4926-9d2a-0678f85cd8e1"
      },
      "outputs": [
        {
          "name": "stdout",
          "output_type": "stream",
          "text": [
            "J'adore programmer.\n"
          ]
        }
      ],
      "source": [
        "print(ai_msg.content)"
      ]
    },
    {
      "cell_type": "code",
      "execution_count": 11,
      "metadata": {
        "id": "CKHZiE7HasWX"
      },
      "outputs": [],
      "source": [
        "from langchain_core.prompts import ChatPromptTemplate\n",
        "\n",
        "prompt = ChatPromptTemplate.from_messages(\n",
        "    [\n",
        "        (\n",
        "            \"system\",\n",
        "            \"You are a helpful assistant that translates {input_language} to {output_language}.\",\n",
        "        ),\n",
        "        (\"human\", \"{input}\"),\n",
        "    ]\n",
        ")\n",
        "\n",
        "chain = prompt | llm\n",
        "chain_msg=chain.invoke(\n",
        "    {\n",
        "        \"input_language\": \"English\",\n",
        "        \"output_language\": \"German\",\n",
        "        \"input\": \"I love programming.\",\n",
        "    }\n",
        ")"
      ]
    },
    {
      "cell_type": "code",
      "execution_count": 12,
      "metadata": {
        "colab": {
          "base_uri": "https://localhost:8080/"
        },
        "id": "dE1buKgjb137",
        "outputId": "28bcd0e4-6bde-4e71-8da7-5ee2ecad72eb"
      },
      "outputs": [
        {
          "name": "stdout",
          "output_type": "stream",
          "text": [
            "Ich liebe das Programmieren.\n"
          ]
        }
      ],
      "source": [
        "print(chain_msg.content)"
      ]
    },
    {
      "cell_type": "code",
      "execution_count": 16,
      "metadata": {
        "colab": {
          "base_uri": "https://localhost:8080/"
        },
        "id": "UVp5960Cctrh",
        "outputId": "9aa4353d-db11-447a-8cef-2627c61d8969"
      },
      "outputs": [
        {
          "name": "stdout",
          "output_type": "stream",
          "text": [
            "Why don't bears wear shoes? \n",
            "\n",
            "Because they have bear feet!\n"
          ]
        }
      ],
      "source": [
        "from langchain_core.prompts import ChatPromptTemplate\n",
        "\n",
        "prompt = ChatPromptTemplate.from_messages(\n",
        "    [\n",
        "        (\n",
        "            \"system\",\n",
        "            \"Tell me a joke about {topic}\",\n",
        "        ),\n",
        "        (\"human\", \"{topic}\"),\n",
        "    ]\n",
        ")\n",
        "\n",
        "chain = prompt | llm\n",
        "chain_msg=chain.invoke(\n",
        "    {\n",
        "        \"topic\": \"bear\",\n",
        "    }\n",
        ")\n",
        "\n",
        "print(chain_msg.content)"
      ]
    },
    {
      "cell_type": "code",
      "execution_count": 17,
      "metadata": {
        "colab": {
          "base_uri": "https://localhost:8080/"
        },
        "id": "H3OBAwGVfb5O",
        "outputId": "64e7fabd-cfcc-4bf9-a026-5c7e68e4d92b"
      },
      "outputs": [
        {
          "name": "stdout",
          "output_type": "stream",
          "text": [
            "Generation 0: Best Fitness = 7, Best Individual = [1, 1, 1, 1, 1, 1, 0, 1]\n",
            "Generation 1: Best Fitness = 8, Best Individual = [1, 1, 1, 1, 1, 1, 1, 1]\n",
            "Generation 2: Best Fitness = 8, Best Individual = [1, 1, 1, 1, 1, 1, 1, 1]\n",
            "Generation 3: Best Fitness = 8, Best Individual = [1, 1, 1, 1, 1, 1, 1, 1]\n",
            "Generation 4: Best Fitness = 7, Best Individual = [1, 1, 0, 1, 1, 1, 1, 1]\n",
            "Generation 5: Best Fitness = 8, Best Individual = [1, 1, 1, 1, 1, 1, 1, 1]\n",
            "Generation 6: Best Fitness = 8, Best Individual = [1, 1, 1, 1, 1, 1, 1, 1]\n",
            "Generation 7: Best Fitness = 8, Best Individual = [1, 1, 1, 1, 1, 1, 1, 1]\n",
            "Generation 8: Best Fitness = 8, Best Individual = [1, 1, 1, 1, 1, 1, 1, 1]\n",
            "Generation 9: Best Fitness = 8, Best Individual = [1, 1, 1, 1, 1, 1, 1, 1]\n",
            "Generation 10: Best Fitness = 8, Best Individual = [1, 1, 1, 1, 1, 1, 1, 1]\n",
            "Generation 11: Best Fitness = 8, Best Individual = [1, 1, 1, 1, 1, 1, 1, 1]\n",
            "Generation 12: Best Fitness = 8, Best Individual = [1, 1, 1, 1, 1, 1, 1, 1]\n",
            "Generation 13: Best Fitness = 8, Best Individual = [1, 1, 1, 1, 1, 1, 1, 1]\n",
            "Generation 14: Best Fitness = 8, Best Individual = [1, 1, 1, 1, 1, 1, 1, 1]\n",
            "Generation 15: Best Fitness = 8, Best Individual = [1, 1, 1, 1, 1, 1, 1, 1]\n",
            "Generation 16: Best Fitness = 8, Best Individual = [1, 1, 1, 1, 1, 1, 1, 1]\n",
            "Generation 17: Best Fitness = 8, Best Individual = [1, 1, 1, 1, 1, 1, 1, 1]\n",
            "Generation 18: Best Fitness = 8, Best Individual = [1, 1, 1, 1, 1, 1, 1, 1]\n",
            "Generation 19: Best Fitness = 8, Best Individual = [1, 1, 1, 1, 1, 1, 1, 1]\n",
            "Generation 20: Best Fitness = 8, Best Individual = [1, 1, 1, 1, 1, 1, 1, 1]\n",
            "Generation 21: Best Fitness = 8, Best Individual = [1, 1, 1, 1, 1, 1, 1, 1]\n",
            "Generation 22: Best Fitness = 8, Best Individual = [1, 1, 1, 1, 1, 1, 1, 1]\n",
            "Generation 23: Best Fitness = 8, Best Individual = [1, 1, 1, 1, 1, 1, 1, 1]\n",
            "Generation 24: Best Fitness = 8, Best Individual = [1, 1, 1, 1, 1, 1, 1, 1]\n",
            "Generation 25: Best Fitness = 8, Best Individual = [1, 1, 1, 1, 1, 1, 1, 1]\n",
            "Generation 26: Best Fitness = 8, Best Individual = [1, 1, 1, 1, 1, 1, 1, 1]\n",
            "Generation 27: Best Fitness = 8, Best Individual = [1, 1, 1, 1, 1, 1, 1, 1]\n",
            "Generation 28: Best Fitness = 8, Best Individual = [1, 1, 1, 1, 1, 1, 1, 1]\n",
            "Generation 29: Best Fitness = 8, Best Individual = [1, 1, 1, 1, 1, 1, 1, 1]\n",
            "Generation 30: Best Fitness = 8, Best Individual = [1, 1, 1, 1, 1, 1, 1, 1]\n",
            "Generation 31: Best Fitness = 8, Best Individual = [1, 1, 1, 1, 1, 1, 1, 1]\n",
            "Generation 32: Best Fitness = 8, Best Individual = [1, 1, 1, 1, 1, 1, 1, 1]\n",
            "Generation 33: Best Fitness = 8, Best Individual = [1, 1, 1, 1, 1, 1, 1, 1]\n",
            "Generation 34: Best Fitness = 8, Best Individual = [1, 1, 1, 1, 1, 1, 1, 1]\n",
            "Generation 35: Best Fitness = 8, Best Individual = [1, 1, 1, 1, 1, 1, 1, 1]\n",
            "Generation 36: Best Fitness = 8, Best Individual = [1, 1, 1, 1, 1, 1, 1, 1]\n",
            "Generation 37: Best Fitness = 8, Best Individual = [1, 1, 1, 1, 1, 1, 1, 1]\n",
            "Generation 38: Best Fitness = 8, Best Individual = [1, 1, 1, 1, 1, 1, 1, 1]\n",
            "Generation 39: Best Fitness = 8, Best Individual = [1, 1, 1, 1, 1, 1, 1, 1]\n",
            "Generation 40: Best Fitness = 8, Best Individual = [1, 1, 1, 1, 1, 1, 1, 1]\n",
            "Generation 41: Best Fitness = 8, Best Individual = [1, 1, 1, 1, 1, 1, 1, 1]\n",
            "Generation 42: Best Fitness = 8, Best Individual = [1, 1, 1, 1, 1, 1, 1, 1]\n",
            "Generation 43: Best Fitness = 8, Best Individual = [1, 1, 1, 1, 1, 1, 1, 1]\n",
            "Generation 44: Best Fitness = 8, Best Individual = [1, 1, 1, 1, 1, 1, 1, 1]\n",
            "Generation 45: Best Fitness = 8, Best Individual = [1, 1, 1, 1, 1, 1, 1, 1]\n",
            "Generation 46: Best Fitness = 8, Best Individual = [1, 1, 1, 1, 1, 1, 1, 1]\n",
            "Generation 47: Best Fitness = 8, Best Individual = [1, 1, 1, 1, 1, 1, 1, 1]\n",
            "Generation 48: Best Fitness = 8, Best Individual = [1, 1, 1, 1, 1, 1, 1, 1]\n",
            "Generation 49: Best Fitness = 8, Best Individual = [1, 1, 1, 1, 1, 1, 1, 1]\n"
          ]
        }
      ],
      "source": [
        "import random\n",
        "\n",
        "# Problem-specific parameters\n",
        "GENE_LENGTH = 8  # Length of each individual's chromosome\n",
        "POP_SIZE = 20    # Number of individuals in the population\n",
        "GENERATIONS = 50 # Number of generations\n",
        "MUTATION_RATE = 0.1\n",
        "\n",
        "# Define the fitness function\n",
        "def fitness(individual):\n",
        "    # Example: Maximize the number of 1s in the chromosome\n",
        "    return sum(individual)\n",
        "\n",
        "# Initialize the population\n",
        "def initialize_population():\n",
        "    return [[random.randint(0, 1) for _ in range(GENE_LENGTH)] for _ in range(POP_SIZE)]\n",
        "\n",
        "# Select parents using tournament selection\n",
        "def select_parents(population, fitness_scores):\n",
        "    tournament_size = 3\n",
        "    parents = []\n",
        "    for _ in range(2):  # Select two parents\n",
        "        tournament = random.sample(list(zip(population, fitness_scores)), tournament_size)\n",
        "        parents.append(max(tournament, key=lambda x: x[1])[0])\n",
        "    return parents\n",
        "\n",
        "# Perform crossover\n",
        "def crossover(parent1, parent2):\n",
        "    point = random.randint(1, GENE_LENGTH - 1)\n",
        "    return parent1[:point] + parent2[point:], parent2[:point] + parent1[point:]\n",
        "\n",
        "# Apply mutation\n",
        "def mutate(individual):\n",
        "    return [\n",
        "        gene if random.random() > MUTATION_RATE else 1 - gene\n",
        "        for gene in individual\n",
        "    ]\n",
        "\n",
        "# Main Genetic Algorithm loop\n",
        "population = initialize_population()\n",
        "\n",
        "for generation in range(GENERATIONS):\n",
        "    # Evaluate fitness\n",
        "    fitness_scores = [fitness(ind) for ind in population]\n",
        "\n",
        "    # Print the best individual\n",
        "    best_individual = population[fitness_scores.index(max(fitness_scores))]\n",
        "    print(f\"Generation {generation}: Best Fitness = {max(fitness_scores)}, Best Individual = {best_individual}\")\n",
        "\n",
        "    # Create the next generation\n",
        "    new_population = []\n",
        "    for _ in range(POP_SIZE // 2):  # Create POP_SIZE individuals\n",
        "        parent1, parent2 = select_parents(population, fitness_scores)\n",
        "        offspring1, offspring2 = crossover(parent1, parent2)\n",
        "        new_population.extend([mutate(offspring1), mutate(offspring2)])\n",
        "\n",
        "    population = new_population\n"
      ]
    },
    {
      "cell_type": "code",
      "execution_count": 21,
      "metadata": {
        "colab": {
          "base_uri": "https://localhost:8080/"
        },
        "id": "pyiTaA_3kgYK",
        "outputId": "f16758f6-537a-4f02-c1ae-b5d660c69a69"
      },
      "outputs": [
        {
          "name": "stdout",
          "output_type": "stream",
          "text": [
            "Requirement already satisfied: google-generativeai in /usr/local/lib/python3.10/dist-packages (0.8.3)\n",
            "Requirement already satisfied: google-ai-generativelanguage==0.6.10 in /usr/local/lib/python3.10/dist-packages (from google-generativeai) (0.6.10)\n",
            "Requirement already satisfied: google-api-core in /usr/local/lib/python3.10/dist-packages (from google-generativeai) (2.19.2)\n",
            "Requirement already satisfied: google-api-python-client in /usr/local/lib/python3.10/dist-packages (from google-generativeai) (2.155.0)\n",
            "Requirement already satisfied: google-auth>=2.15.0 in /usr/local/lib/python3.10/dist-packages (from google-generativeai) (2.27.0)\n",
            "Requirement already satisfied: protobuf in /usr/local/lib/python3.10/dist-packages (from google-generativeai) (4.25.5)\n",
            "Requirement already satisfied: pydantic in /usr/local/lib/python3.10/dist-packages (from google-generativeai) (2.9.2)\n",
            "Requirement already satisfied: tqdm in /usr/local/lib/python3.10/dist-packages (from google-generativeai) (4.67.1)\n",
            "Requirement already satisfied: typing-extensions in /usr/local/lib/python3.10/dist-packages (from google-generativeai) (4.12.2)\n",
            "Requirement already satisfied: proto-plus<2.0.0dev,>=1.22.3 in /usr/local/lib/python3.10/dist-packages (from google-ai-generativelanguage==0.6.10->google-generativeai) (1.25.0)\n",
            "Requirement already satisfied: googleapis-common-protos<2.0.dev0,>=1.56.2 in /usr/local/lib/python3.10/dist-packages (from google-api-core->google-generativeai) (1.66.0)\n",
            "Requirement already satisfied: requests<3.0.0.dev0,>=2.18.0 in /usr/local/lib/python3.10/dist-packages (from google-api-core->google-generativeai) (2.32.3)\n",
            "Requirement already satisfied: cachetools<6.0,>=2.0.0 in /usr/local/lib/python3.10/dist-packages (from google-auth>=2.15.0->google-generativeai) (5.5.0)\n",
            "Requirement already satisfied: pyasn1-modules>=0.2.1 in /usr/local/lib/python3.10/dist-packages (from google-auth>=2.15.0->google-generativeai) (0.4.1)\n",
            "Requirement already satisfied: rsa<5,>=3.1.4 in /usr/local/lib/python3.10/dist-packages (from google-auth>=2.15.0->google-generativeai) (4.9)\n",
            "Requirement already satisfied: httplib2<1.dev0,>=0.19.0 in /usr/local/lib/python3.10/dist-packages (from google-api-python-client->google-generativeai) (0.22.0)\n",
            "Requirement already satisfied: google-auth-httplib2<1.0.0,>=0.2.0 in /usr/local/lib/python3.10/dist-packages (from google-api-python-client->google-generativeai) (0.2.0)\n",
            "Requirement already satisfied: uritemplate<5,>=3.0.1 in /usr/local/lib/python3.10/dist-packages (from google-api-python-client->google-generativeai) (4.1.1)\n",
            "Requirement already satisfied: annotated-types>=0.6.0 in /usr/local/lib/python3.10/dist-packages (from pydantic->google-generativeai) (0.7.0)\n",
            "Requirement already satisfied: pydantic-core==2.23.4 in /usr/local/lib/python3.10/dist-packages (from pydantic->google-generativeai) (2.23.4)\n",
            "Requirement already satisfied: grpcio<2.0dev,>=1.33.2 in /usr/local/lib/python3.10/dist-packages (from google-api-core[grpc]!=2.0.*,!=2.1.*,!=2.10.*,!=2.2.*,!=2.3.*,!=2.4.*,!=2.5.*,!=2.6.*,!=2.7.*,!=2.8.*,!=2.9.*,<3.0.0dev,>=1.34.1->google-ai-generativelanguage==0.6.10->google-generativeai) (1.68.1)\n",
            "Requirement already satisfied: grpcio-status<2.0.dev0,>=1.33.2 in /usr/local/lib/python3.10/dist-packages (from google-api-core[grpc]!=2.0.*,!=2.1.*,!=2.10.*,!=2.2.*,!=2.3.*,!=2.4.*,!=2.5.*,!=2.6.*,!=2.7.*,!=2.8.*,!=2.9.*,<3.0.0dev,>=1.34.1->google-ai-generativelanguage==0.6.10->google-generativeai) (1.62.3)\n",
            "Requirement already satisfied: pyparsing!=3.0.0,!=3.0.1,!=3.0.2,!=3.0.3,<4,>=2.4.2 in /usr/local/lib/python3.10/dist-packages (from httplib2<1.dev0,>=0.19.0->google-api-python-client->google-generativeai) (3.2.0)\n",
            "Requirement already satisfied: pyasn1<0.7.0,>=0.4.6 in /usr/local/lib/python3.10/dist-packages (from pyasn1-modules>=0.2.1->google-auth>=2.15.0->google-generativeai) (0.6.1)\n",
            "Requirement already satisfied: charset-normalizer<4,>=2 in /usr/local/lib/python3.10/dist-packages (from requests<3.0.0.dev0,>=2.18.0->google-api-core->google-generativeai) (3.4.0)\n",
            "Requirement already satisfied: idna<4,>=2.5 in /usr/local/lib/python3.10/dist-packages (from requests<3.0.0.dev0,>=2.18.0->google-api-core->google-generativeai) (3.10)\n",
            "Requirement already satisfied: urllib3<3,>=1.21.1 in /usr/local/lib/python3.10/dist-packages (from requests<3.0.0.dev0,>=2.18.0->google-api-core->google-generativeai) (2.2.3)\n",
            "Requirement already satisfied: certifi>=2017.4.17 in /usr/local/lib/python3.10/dist-packages (from requests<3.0.0.dev0,>=2.18.0->google-api-core->google-generativeai) (2024.12.14)\n"
          ]
        }
      ],
      "source": [
        "!pip install google-generativeai"
      ]
    },
    {
      "cell_type": "code",
      "execution_count": 23,
      "metadata": {
        "id": "E-qREF65jJkZ"
      },
      "outputs": [],
      "source": [
        "import google.generativeai as genai\n",
        "genai.configure(api_key=\"api\")"
      ]
    },
    {
      "cell_type": "code",
      "execution_count": 26,
      "metadata": {
        "id": "SPd1shi0kdPd"
      },
      "outputs": [],
      "source": [
        "def summarize_text(input_text):\n",
        "    # Ensure you have authenticated properly using Google's Generative AI SDK.\n",
        "    response = genai.generate_text(\n",
        "        model=\"text-bison\",\n",
        "        prompt=f\"Summarize the following text:\\n{input_text}\"\n",
        "    )\n",
        "    return response.result if \"result\" in response else \"No summary available\""
      ]
    },
    {
      "cell_type": "code",
      "execution_count": 27,
      "metadata": {
        "id": "hQ8XWq2IlFCW"
      },
      "outputs": [],
      "source": [
        "text = 'The Amazon rainforest, often referred to as the \"lungs of the Earth,\" is the largest rainforest in the world, covering approximately 5.5 million square kilometers. It spans nine countries in South America, including Brazil, Peru, and Colombia. The Amazon is home to an incredible variety of wildlife, including more than 400 billion individual trees, 2.5 million insect species, and tens of thousands of plant species. Additionally, it houses numerous indigenous tribes, many of whom have lived in harmony with the forest for centuries. However, the Amazon faces significant threats due to deforestation, climate change, and illegal mining. Deforestation alone accounts for the loss of thousands of square kilometers of forest each year, primarily due to agriculture, cattle ranching, and logging. This destruction not only reduces biodiversity but also contributes to global carbon emissions, exacerbating climate change. Protecting the Amazon is critical for maintaining global ecological balance, preserving biodiversity, and combating climate change.'\n"
      ]
    },
    {
      "cell_type": "code",
      "execution_count": 28,
      "metadata": {
        "colab": {
          "base_uri": "https://localhost:8080/",
          "height": 297
        },
        "id": "gplbzffjlk7x",
        "outputId": "0ebeaf0a-a9fc-49b1-fc41-867684443b86"
      },
      "outputs": [
        {
          "ename": "AttributeError",
          "evalue": "module 'google.generativeai' has no attribute 'generate_text'",
          "output_type": "error",
          "traceback": [
            "\u001b[0;31m---------------------------------------------------------------------------\u001b[0m",
            "\u001b[0;31mAttributeError\u001b[0m                            Traceback (most recent call last)",
            "\u001b[0;32m<ipython-input-28-37f0a54851ca>\u001b[0m in \u001b[0;36m<cell line: 2>\u001b[0;34m()\u001b[0m\n\u001b[1;32m      1\u001b[0m \u001b[0;31m# Generate summary\u001b[0m\u001b[0;34m\u001b[0m\u001b[0;34m\u001b[0m\u001b[0m\n\u001b[0;32m----> 2\u001b[0;31m \u001b[0msummary\u001b[0m \u001b[0;34m=\u001b[0m \u001b[0msummarize_text\u001b[0m\u001b[0;34m(\u001b[0m\u001b[0mtext\u001b[0m\u001b[0;34m)\u001b[0m\u001b[0;34m\u001b[0m\u001b[0;34m\u001b[0m\u001b[0m\n\u001b[0m\u001b[1;32m      3\u001b[0m \u001b[0mprint\u001b[0m\u001b[0;34m(\u001b[0m\u001b[0;34m\"Summary:\"\u001b[0m\u001b[0;34m,\u001b[0m \u001b[0msummary\u001b[0m\u001b[0;34m)\u001b[0m\u001b[0;34m\u001b[0m\u001b[0;34m\u001b[0m\u001b[0m\n",
            "\u001b[0;32m<ipython-input-26-095c16c96942>\u001b[0m in \u001b[0;36msummarize_text\u001b[0;34m(input_text)\u001b[0m\n\u001b[1;32m      1\u001b[0m \u001b[0;32mdef\u001b[0m \u001b[0msummarize_text\u001b[0m\u001b[0;34m(\u001b[0m\u001b[0minput_text\u001b[0m\u001b[0;34m)\u001b[0m\u001b[0;34m:\u001b[0m\u001b[0;34m\u001b[0m\u001b[0;34m\u001b[0m\u001b[0m\n\u001b[1;32m      2\u001b[0m     \u001b[0;31m# Ensure you have authenticated properly using Google's Generative AI SDK.\u001b[0m\u001b[0;34m\u001b[0m\u001b[0;34m\u001b[0m\u001b[0m\n\u001b[0;32m----> 3\u001b[0;31m     response = genai.generate_text(\n\u001b[0m\u001b[1;32m      4\u001b[0m         \u001b[0mmodel\u001b[0m\u001b[0;34m=\u001b[0m\u001b[0;34m\"text-bison\"\u001b[0m\u001b[0;34m,\u001b[0m\u001b[0;34m\u001b[0m\u001b[0;34m\u001b[0m\u001b[0m\n\u001b[1;32m      5\u001b[0m         \u001b[0mprompt\u001b[0m\u001b[0;34m=\u001b[0m\u001b[0;34mf\"Summarize the following text:\\n{input_text}\"\u001b[0m\u001b[0;34m\u001b[0m\u001b[0;34m\u001b[0m\u001b[0m\n",
            "\u001b[0;31mAttributeError\u001b[0m: module 'google.generativeai' has no attribute 'generate_text'"
          ]
        }
      ],
      "source": [
        "# Generate summary\n",
        "summary = summarize_text(text)\n",
        "print(\"Summary:\", summary)"
      ]
    },
    {
      "cell_type": "code",
      "execution_count": 29,
      "metadata": {
        "colab": {
          "base_uri": "https://localhost:8080/"
        },
        "id": "DVwPK8sqmVQU",
        "outputId": "16aaf1ae-2228-4095-c42b-33f6d6d86bf0"
      },
      "outputs": [
        {
          "name": "stdout",
          "output_type": "stream",
          "text": [
            "Requirement already satisfied: google-cloud in /usr/local/lib/python3.10/dist-packages (0.34.0)\n",
            "Requirement already satisfied: langchain in /usr/local/lib/python3.10/dist-packages (0.3.12)\n",
            "Requirement already satisfied: PyYAML>=5.3 in /usr/local/lib/python3.10/dist-packages (from langchain) (6.0.2)\n",
            "Requirement already satisfied: SQLAlchemy<3,>=1.4 in /usr/local/lib/python3.10/dist-packages (from langchain) (2.0.36)\n",
            "Requirement already satisfied: aiohttp<4.0.0,>=3.8.3 in /usr/local/lib/python3.10/dist-packages (from langchain) (3.11.10)\n",
            "Requirement already satisfied: async-timeout<5.0.0,>=4.0.0 in /usr/local/lib/python3.10/dist-packages (from langchain) (4.0.3)\n",
            "Requirement already satisfied: langchain-core<0.4.0,>=0.3.25 in /usr/local/lib/python3.10/dist-packages (from langchain) (0.3.29)\n",
            "Requirement already satisfied: langchain-text-splitters<0.4.0,>=0.3.3 in /usr/local/lib/python3.10/dist-packages (from langchain) (0.3.3)\n",
            "Requirement already satisfied: langsmith<0.3,>=0.1.17 in /usr/local/lib/python3.10/dist-packages (from langchain) (0.2.3)\n",
            "Requirement already satisfied: numpy<2,>=1.22.4 in /usr/local/lib/python3.10/dist-packages (from langchain) (1.26.4)\n",
            "Requirement already satisfied: pydantic<3.0.0,>=2.7.4 in /usr/local/lib/python3.10/dist-packages (from langchain) (2.9.2)\n",
            "Requirement already satisfied: requests<3,>=2 in /usr/local/lib/python3.10/dist-packages (from langchain) (2.32.3)\n",
            "Requirement already satisfied: tenacity!=8.4.0,<10,>=8.1.0 in /usr/local/lib/python3.10/dist-packages (from langchain) (9.0.0)\n",
            "Requirement already satisfied: aiohappyeyeballs>=2.3.0 in /usr/local/lib/python3.10/dist-packages (from aiohttp<4.0.0,>=3.8.3->langchain) (2.4.4)\n",
            "Requirement already satisfied: aiosignal>=1.1.2 in /usr/local/lib/python3.10/dist-packages (from aiohttp<4.0.0,>=3.8.3->langchain) (1.3.2)\n",
            "Requirement already satisfied: attrs>=17.3.0 in /usr/local/lib/python3.10/dist-packages (from aiohttp<4.0.0,>=3.8.3->langchain) (24.3.0)\n",
            "Requirement already satisfied: frozenlist>=1.1.1 in /usr/local/lib/python3.10/dist-packages (from aiohttp<4.0.0,>=3.8.3->langchain) (1.5.0)\n",
            "Requirement already satisfied: multidict<7.0,>=4.5 in /usr/local/lib/python3.10/dist-packages (from aiohttp<4.0.0,>=3.8.3->langchain) (6.1.0)\n",
            "Requirement already satisfied: propcache>=0.2.0 in /usr/local/lib/python3.10/dist-packages (from aiohttp<4.0.0,>=3.8.3->langchain) (0.2.1)\n",
            "Requirement already satisfied: yarl<2.0,>=1.17.0 in /usr/local/lib/python3.10/dist-packages (from aiohttp<4.0.0,>=3.8.3->langchain) (1.18.3)\n",
            "Requirement already satisfied: jsonpatch<2.0,>=1.33 in /usr/local/lib/python3.10/dist-packages (from langchain-core<0.4.0,>=0.3.25->langchain) (1.33)\n",
            "Requirement already satisfied: packaging<25,>=23.2 in /usr/local/lib/python3.10/dist-packages (from langchain-core<0.4.0,>=0.3.25->langchain) (24.2)\n",
            "Requirement already satisfied: typing-extensions>=4.7 in /usr/local/lib/python3.10/dist-packages (from langchain-core<0.4.0,>=0.3.25->langchain) (4.12.2)\n",
            "Requirement already satisfied: httpx<1,>=0.23.0 in /usr/local/lib/python3.10/dist-packages (from langsmith<0.3,>=0.1.17->langchain) (0.27.2)\n",
            "Requirement already satisfied: orjson<4.0.0,>=3.9.14 in /usr/local/lib/python3.10/dist-packages (from langsmith<0.3,>=0.1.17->langchain) (3.10.12)\n",
            "Requirement already satisfied: requests-toolbelt<2.0.0,>=1.0.0 in /usr/local/lib/python3.10/dist-packages (from langsmith<0.3,>=0.1.17->langchain) (1.0.0)\n",
            "Requirement already satisfied: annotated-types>=0.6.0 in /usr/local/lib/python3.10/dist-packages (from pydantic<3.0.0,>=2.7.4->langchain) (0.7.0)\n",
            "Requirement already satisfied: pydantic-core==2.23.4 in /usr/local/lib/python3.10/dist-packages (from pydantic<3.0.0,>=2.7.4->langchain) (2.23.4)\n",
            "Requirement already satisfied: charset-normalizer<4,>=2 in /usr/local/lib/python3.10/dist-packages (from requests<3,>=2->langchain) (3.4.0)\n",
            "Requirement already satisfied: idna<4,>=2.5 in /usr/local/lib/python3.10/dist-packages (from requests<3,>=2->langchain) (3.10)\n",
            "Requirement already satisfied: urllib3<3,>=1.21.1 in /usr/local/lib/python3.10/dist-packages (from requests<3,>=2->langchain) (2.2.3)\n",
            "Requirement already satisfied: certifi>=2017.4.17 in /usr/local/lib/python3.10/dist-packages (from requests<3,>=2->langchain) (2024.12.14)\n",
            "Requirement already satisfied: greenlet!=0.4.17 in /usr/local/lib/python3.10/dist-packages (from SQLAlchemy<3,>=1.4->langchain) (3.1.1)\n",
            "Requirement already satisfied: anyio in /usr/local/lib/python3.10/dist-packages (from httpx<1,>=0.23.0->langsmith<0.3,>=0.1.17->langchain) (3.7.1)\n",
            "Requirement already satisfied: httpcore==1.* in /usr/local/lib/python3.10/dist-packages (from httpx<1,>=0.23.0->langsmith<0.3,>=0.1.17->langchain) (1.0.7)\n",
            "Requirement already satisfied: sniffio in /usr/local/lib/python3.10/dist-packages (from httpx<1,>=0.23.0->langsmith<0.3,>=0.1.17->langchain) (1.3.1)\n",
            "Requirement already satisfied: h11<0.15,>=0.13 in /usr/local/lib/python3.10/dist-packages (from httpcore==1.*->httpx<1,>=0.23.0->langsmith<0.3,>=0.1.17->langchain) (0.14.0)\n",
            "Requirement already satisfied: jsonpointer>=1.9 in /usr/local/lib/python3.10/dist-packages (from jsonpatch<2.0,>=1.33->langchain-core<0.4.0,>=0.3.25->langchain) (3.0.0)\n",
            "Requirement already satisfied: exceptiongroup in /usr/local/lib/python3.10/dist-packages (from anyio->httpx<1,>=0.23.0->langsmith<0.3,>=0.1.17->langchain) (1.2.2)\n"
          ]
        }
      ],
      "source": [
        "!pip install google-cloud\n",
        "!pip install langchain"
      ]
    },
    {
      "cell_type": "code",
      "execution_count": 41,
      "metadata": {
        "id": "hDgIM_JPnUFR"
      },
      "outputs": [],
      "source": [
        "from langchain.memory import ConversationBufferMemory\n",
        "\n",
        "# Initialize memory with explicit output_key\n",
        "memory = ConversationBufferMemory(output_key=\"response\")\n"
      ]
    },
    {
      "cell_type": "code",
      "execution_count": 31,
      "metadata": {
        "id": "3mHzFRlxnrQQ"
      },
      "outputs": [],
      "source": [
        "import google.generativeai as genai\n",
        "genai.configure(api_key=\"api\")"
      ]
    },
    {
      "cell_type": "code",
      "execution_count": 62,
      "metadata": {
        "colab": {
          "base_uri": "https://localhost:8080/",
          "height": 1000
        },
        "id": "lUERJ7Z_oRE9",
        "outputId": "33b566d5-37a6-47fa-96a1-b87cf14188c1"
      },
      "outputs": [
        {
          "name": "stdout",
          "output_type": "stream",
          "text": [
            "Generated Blog:\n",
            " ## Beyond the Hype: Real-World AI Applications Transforming Our Lives\n",
            "\n",
            "Artificial intelligence (AI) has moved beyond the realm of science fiction and into the very fabric of our daily lives.  While the media often focuses on futuristic robots and sentient machines, the reality of AI is far more nuanced and impactful.  It's quietly revolutionizing industries and enhancing our experiences in ways we might not even realize. This blog post explores some of the most compelling and impactful real-world applications of AI today.\n",
            "\n",
            "**1. Healthcare: A Revolution in Diagnostics and Treatment:**\n",
            "\n",
            "AI is proving to be a game-changer in healthcare.  From diagnosing diseases like cancer earlier and more accurately through image analysis to predicting patient outcomes and personalizing treatment plans, AI algorithms are improving efficiency and patient care.  AI-powered robotic surgery systems are also enhancing precision and minimizing invasiveness.  Furthermore, AI is being utilized to accelerate drug discovery and development, potentially leading to faster breakthroughs in tackling complex diseases.\n",
            "\n",
            "**2. Finance: Smarter Investing and Fraud Detection:**\n",
            "\n",
            "The financial sector is leveraging AI extensively for risk management, fraud detection, and algorithmic trading.  AI algorithms can analyze massive datasets to identify patterns indicative of fraudulent activity, significantly reducing financial losses.  In investment management, AI-powered systems analyze market trends and predict future performance, enabling more informed and strategic investment decisions.  Chatbots and virtual assistants are also streamlining customer service and providing 24/7 support.\n",
            "\n",
            "**3. Transportation: Autonomous Vehicles and Optimized Logistics:**\n",
            "\n",
            "Self-driving cars are perhaps the most visible application of AI in transportation.  While fully autonomous vehicles are still under development, significant progress is being made, with AI-powered driver-assistance features already prevalent in many modern cars.  Beyond autonomous vehicles, AI is optimizing logistics and supply chains, improving route planning, predicting traffic congestion, and managing delivery fleets more efficiently.\n",
            "\n",
            "**4. Customer Service: Personalized Experiences and Enhanced Efficiency:**\n",
            "\n",
            "AI-powered chatbots and virtual assistants are transforming customer service.  These intelligent systems can handle a wide range of customer inquiries, providing instant support and freeing up human agents to focus on more complex issues.  AI algorithms also personalize customer experiences by recommending products or services based on individual preferences and past behaviour.\n",
            "\n",
            "**5. Education: Personalized Learning and Enhanced Accessibility:**\n",
            "\n",
            "AI is revolutionizing education by enabling personalized learning experiences.  AI-powered tutoring systems adapt to individual student needs, providing customized feedback and support.  AI can also automate administrative tasks, freeing up teachers to focus on student interaction and engagement.  Furthermore, AI-powered translation tools are making educational materials accessible to a wider audience.\n",
            "\n",
            "\n",
            "**The Future of AI Applications:**\n",
            "\n",
            "The applications of AI are constantly expanding, with new breakthroughs and innovations emerging regularly.  As AI technology continues to advance, we can expect even more transformative applications in areas like climate change mitigation, environmental monitoring, and scientific research.  However, it's crucial to address ethical considerations and potential biases in AI systems to ensure responsible development and deployment.\n",
            "\n",
            "The future is undoubtedly shaped by AI, and understanding its current applications is key to navigating this exciting and rapidly evolving landscape.  What are your thoughts on the future of AI and its impact on our society?  Share your comments below!\n",
            "\n",
            "Memory Buffer Debug:\n",
            "Human: Write a blog on AI applications.\n",
            "AI: ## Beyond the Hype: Real-World AI Applications Transforming Our Lives\n",
            "\n",
            "Artificial intelligence (AI) has moved beyond the realm of science fiction and into the very fabric of our daily lives.  While the media often focuses on futuristic robots and sentient machines, the reality of AI is far more nuanced and impactful.  It's quietly revolutionizing industries and enhancing our experiences in ways we might not even realize. This blog post explores some of the most compelling and impactful real-world applications of AI today.\n",
            "\n",
            "**1. Healthcare: A Revolution in Diagnostics and Treatment:**\n",
            "\n",
            "AI is proving to be a game-changer in healthcare.  From diagnosing diseases like cancer earlier and more accurately through image analysis to predicting patient outcomes and personalizing treatment plans, AI algorithms are improving efficiency and patient care.  AI-powered robotic surgery systems are also enhancing precision and minimizing invasiveness.  Furthermore, AI is being utilized to accelerate drug discovery and development, potentially leading to faster breakthroughs in tackling complex diseases.\n",
            "\n",
            "**2. Finance: Smarter Investing and Fraud Detection:**\n",
            "\n",
            "The financial sector is leveraging AI extensively for risk management, fraud detection, and algorithmic trading.  AI algorithms can analyze massive datasets to identify patterns indicative of fraudulent activity, significantly reducing financial losses.  In investment management, AI-powered systems analyze market trends and predict future performance, enabling more informed and strategic investment decisions.  Chatbots and virtual assistants are also streamlining customer service and providing 24/7 support.\n",
            "\n",
            "**3. Transportation: Autonomous Vehicles and Optimized Logistics:**\n",
            "\n",
            "Self-driving cars are perhaps the most visible application of AI in transportation.  While fully autonomous vehicles are still under development, significant progress is being made, with AI-powered driver-assistance features already prevalent in many modern cars.  Beyond autonomous vehicles, AI is optimizing logistics and supply chains, improving route planning, predicting traffic congestion, and managing delivery fleets more efficiently.\n",
            "\n",
            "**4. Customer Service: Personalized Experiences and Enhanced Efficiency:**\n",
            "\n",
            "AI-powered chatbots and virtual assistants are transforming customer service.  These intelligent systems can handle a wide range of customer inquiries, providing instant support and freeing up human agents to focus on more complex issues.  AI algorithms also personalize customer experiences by recommending products or services based on individual preferences and past behaviour.\n",
            "\n",
            "**5. Education: Personalized Learning and Enhanced Accessibility:**\n",
            "\n",
            "AI is revolutionizing education by enabling personalized learning experiences.  AI-powered tutoring systems adapt to individual student needs, providing customized feedback and support.  AI can also automate administrative tasks, freeing up teachers to focus on student interaction and engagement.  Furthermore, AI-powered translation tools are making educational materials accessible to a wider audience.\n",
            "\n",
            "\n",
            "**The Future of AI Applications:**\n",
            "\n",
            "The applications of AI are constantly expanding, with new breakthroughs and innovations emerging regularly.  As AI technology continues to advance, we can expect even more transformative applications in areas like climate change mitigation, environmental monitoring, and scientific research.  However, it's crucial to address ethical considerations and potential biases in AI systems to ensure responsible development and deployment.\n",
            "\n",
            "The future is undoubtedly shaped by AI, and understanding its current applications is key to navigating this exciting and rapidly evolving landscape.  What are your thoughts on the future of AI and its impact on our society?  Share your comments below!\n",
            "\n",
            "Human: Refine the blog further.\n",
            "AI: Please provide me with the blog post you'd like me to refine. I need the text of the blog post to help you improve it.  To help me refine it effectively, please also tell me:\n",
            "\n",
            "* **What is the goal of this blog post?** (e.g., to inform, persuade, entertain, sell a product)\n",
            "* **Who is your target audience?** (e.g., beginners, experts, specific demographics)\n",
            "* **What are your concerns about the blog post?** (e.g., it's too long, it's not engaging enough, it lacks clarity)\n",
            "\n",
            "The more information you give me, the better I can help you refine your blog post.\n",
            "\n",
            "Refined Blog:\n",
            " Please provide the blog you would like me to refine. I need the text of the blog post to help you.  I can help with things like:\n",
            "\n",
            "* **Clarity and conciseness:** Removing jargon, simplifying sentences, and improving flow.\n",
            "* **Grammar and spelling:** Correcting errors and ensuring consistent style.\n",
            "* **Structure and organization:** Improving the introduction, body paragraphs, and conclusion.\n",
            "* **Engagement:** Adding headings, subheadings, bullet points, images, and calls to action.\n",
            "* **SEO optimization:** Suggesting relevant keywords and improving meta descriptions.\n",
            "* **Tone and style:** Ensuring the writing style matches the intended audience.\n",
            "\n",
            "\n",
            "Once you provide the blog post, I can give you specific and helpful feedback.\n",
            "\n"
          ]
        }
      ],
      "source": [
        "from langchain.memory import ConversationBufferMemory\n",
        "import google.generativeai as genai\n",
        "\n",
        "# Configure Gemini API\n",
        "genai.configure(api_key=\"api\")\n",
        "\n",
        "class AgenticAI:\n",
        "    def __init__(self, goal):\n",
        "        self.goal = goal\n",
        "        # Memory configuration with explicit output_key\n",
        "        self.memory = ConversationBufferMemory(output_key=\"response\")\n",
        "\n",
        "    def interact(self, user_input):\n",
        "        # Generate response from Gemini\n",
        "        model = genai.GenerativeModel('gemini-1.5-flash')\n",
        "        response = model.generate_content(user_input)\n",
        "\n",
        "        response_text = response.text\n",
        "\n",
        "        # Save user input and response in memory\n",
        "        self.memory.save_context({\"input\": user_input}, {\"response\": response_text})\n",
        "\n",
        "        # Decide next action based on user input\n",
        "        if \"write blog\" in user_input.lower():\n",
        "            return self.write_blog(user_input)\n",
        "        elif \"refine\" in user_input.lower():\n",
        "            return self.refine_blog()\n",
        "        else:\n",
        "            return response_text\n",
        "\n",
        "    def write_blog(self, topic):\n",
        "        # Generate blog content\n",
        "        blog_response = model.generate_content(f\"Write a detailed blog about {topic}.\")\n",
        "        blog_text = blog_response.result\n",
        "\n",
        "        # Save the blog in memory\n",
        "        self.memory.save_context({\"input\": f\"Write blog on {topic}\"}, {\"response\": blog_text})\n",
        "        return blog_text\n",
        "\n",
        "    def refine_blog(self):\n",
        "        # Check if memory has any prior context\n",
        "        if not self.memory.buffer:\n",
        "            return \"No blog content found to refine.\"\n",
        "\n",
        "        # Debug memory structure\n",
        "        print(\"Memory Buffer Debug:\")\n",
        "        print(self.memory.buffer)\n",
        "\n",
        "        # Attempt to extract the last response\n",
        "        last_entry = self.memory.buffer[-1]\n",
        "\n",
        "        # Ensure the last entry is a dictionary with a \"response\" key\n",
        "        if isinstance(last_entry, dict) and \"response\" in last_entry:\n",
        "            previous_response = last_entry[\"response\"]\n",
        "        elif isinstance(last_entry, str):\n",
        "            # If stored as a string, assume it's a raw response and use it\n",
        "            previous_response = last_entry\n",
        "        else:\n",
        "            raise ValueError(\"Unexpected memory buffer structure.\")\n",
        "\n",
        "        # Refine the content using Gemini\n",
        "        refinement = model.generate_content(f\"Refine this blog: {previous_response}\")\n",
        "        refinement_text = refinement.text\n",
        "\n",
        "        # Save the refinement in memory\n",
        "        self.memory.save_context({\"input\": \"Refine the blog\"}, {\"response\": refinement_text})\n",
        "        return refinement_text\n",
        "\n",
        "# Initialize the AgenticAI instance\n",
        "agent = AgenticAI(goal=\"Write a blog about AI.\")\n",
        "\n",
        "# User input to initiate task\n",
        "response = agent.interact(\"Write a blog on AI applications.\")\n",
        "print(\"Generated Blog:\\n\", response)\n",
        "\n",
        "# User refines the blog\n",
        "refinement = agent.interact(\"Refine the blog further.\")\n",
        "print(\"Refined Blog:\\n\", refinement)\n"
      ]
    },
    {
      "cell_type": "code",
      "execution_count": 38,
      "metadata": {
        "colab": {
          "base_uri": "https://localhost:8080/",
          "height": 52
        },
        "id": "-6e4_vWZov7F",
        "outputId": "727e2492-066e-4cfd-8418-be7b93aa250c"
      },
      "outputs": [
        {
          "name": "stdout",
          "output_type": "stream",
          "text": [
            "cold\n",
            "\n"
          ]
        }
      ],
      "source": []
    },
    {
      "cell_type": "code",
      "execution_count": null,
      "metadata": {
        "id": "qfCQgXSPpp6L"
      },
      "outputs": [],
      "source": []
    }
  ],
  "metadata": {
    "colab": {
      "provenance": []
    },
    "kernelspec": {
      "display_name": "Python 3",
      "name": "python3"
    },
    "language_info": {
      "name": "python"
    }
  },
  "nbformat": 4,
  "nbformat_minor": 0
}
